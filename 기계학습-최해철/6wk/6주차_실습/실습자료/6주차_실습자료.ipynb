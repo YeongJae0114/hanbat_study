{
  "cells": [
    {
      "cell_type": "markdown",
      "metadata": {
        "id": "OrbmAIqKqAK6"
      },
      "source": [
        "# 2장 - 간단한 분류 알고리즘 훈련"
      ]
    },
    {
      "cell_type": "code",
      "source": [
        "# google drive 연결\n",
        "from google.colab import drive\n",
        "drive.mount('/content/drive')"
      ],
      "metadata": {
        "id": "wKiHyP2C0Af-"
      },
      "execution_count": null,
      "outputs": []
    },
    {
      "cell_type": "code",
      "source": [
        "# 작업할 폴더 위치 설정 (본인 폴더 경로에 맞게 수정필요)\n"
      ],
      "metadata": {
        "id": "FoWR-ryy0Dfq"
      },
      "execution_count": null,
      "outputs": []
    },
    {
      "cell_type": "code",
      "execution_count": null,
      "metadata": {
        "execution": {
          "iopub.execute_input": "2021-10-23T05:49:14.421678Z",
          "iopub.status.busy": "2021-10-23T05:49:14.420609Z",
          "iopub.status.idle": "2021-10-23T05:49:14.423029Z",
          "shell.execute_reply": "2021-10-23T05:49:14.422347Z"
        },
        "id": "H7hW_HzPqAK8"
      },
      "outputs": [],
      "source": [
        "from IPython.display import Image"
      ]
    },
    {
      "cell_type": "markdown",
      "metadata": {
        "id": "Fr9HSqsoqAK9"
      },
      "source": [
        "## 2.1 인공 뉴런: 초기 머신 러닝의 간단한 역사"
      ]
    },
    {
      "cell_type": "code",
      "execution_count": null,
      "metadata": {
        "execution": {
          "iopub.execute_input": "2021-10-23T05:49:14.434031Z",
          "iopub.status.busy": "2021-10-23T05:49:14.431909Z",
          "iopub.status.idle": "2021-10-23T05:49:14.437885Z",
          "shell.execute_reply": "2021-10-23T05:49:14.437327Z"
        },
        "id": "-q5FhqX_qAK9"
      },
      "outputs": [],
      "source": [
        "Image(url='https://git.io/JtIbf', width=500)"
      ]
    },
    {
      "cell_type": "markdown",
      "metadata": {
        "id": "peRQWvs13ezt"
      },
      "source": [
        "- 1943년 워렌 맥컬록(Warren McCulloch)과 월터 피츠(Walter Pitts)가 맥컬록-피츠(MCP) 뉴런 발표\n",
        "- 프랑크 로젠블라트(Frank Rosenblatt)는 MCP 뉴런 모델을 기반으로 퍼셉트론 학습 개념을 발표"
      ]
    },
    {
      "cell_type": "markdown",
      "metadata": {
        "id": "qcS1fpThqAK-"
      },
      "source": [
        "### 2.1.1 인공 뉴런의 수학적 정의"
      ]
    },
    {
      "cell_type": "markdown",
      "metadata": {
        "id": "zUFB14Mx3ezt"
      },
      "source": [
        "$\\boldsymbol{w}=\\begin{bmatrix} w_1 \\\\ \\vdots \\\\ w_m\\end{bmatrix}$ ,\n",
        "$\\boldsymbol{x}=\\begin{bmatrix} x_1 \\\\ \\vdots \\\\ x_m\\end{bmatrix}$\n",
        "\n",
        "최종 입력(net input) : $z = w_1x_1+w_2x_2+\\cdots+w_mx_m$\n",
        "\n",
        "\n",
        "벡터 점곱(dot product), 행렬 곱셈(matrix multiplication) :\n",
        "$\\begin{bmatrix}1&2&3\\end{bmatrix}\\times\\begin{bmatrix}4\\\\5\\\\6\\end{bmatrix}=1\\times4+2\\times5+3\\times6=32$\n",
        "\n",
        "점곱을 사용한 표현 : $z = w_1x_1+\\cdots+w_mx_m=\\sum_{j=1}^mx_jw_j=\\boldsymbol{w}^T\\boldsymbol{x}$\n",
        "\n",
        "퍼셉트론의 결정 함수 : $\\phi(z)=\\begin{cases}1&z\\ge\\theta\\mbox{ 일 때} \\\\ -1&\\mbox{그 외}\\end{cases}$\n",
        "$\\;\\;\\;\\;\\;$\n",
        "$\\phi(z)=\\begin{cases}1&z-\\theta\\ge0\\mbox{ 일 때} \\\\ -1&\\mbox{그 외}\\end{cases}$\n",
        "\n",
        "$w_0=-\\theta , x_0=1$ 일 때 : $z_{new} = w_0x_0+w_1x_1+\\cdots+w_mx_m=\\sum_{j=0}^mx_jw_j=\\boldsymbol{w}^T\\boldsymbol{x}$"
      ]
    },
    {
      "cell_type": "code",
      "execution_count": null,
      "metadata": {
        "execution": {
          "iopub.execute_input": "2021-10-23T05:49:14.444031Z",
          "iopub.status.busy": "2021-10-23T05:49:14.443018Z",
          "iopub.status.idle": "2021-10-23T05:49:14.446779Z",
          "shell.execute_reply": "2021-10-23T05:49:14.447226Z"
        },
        "id": "m2egC3TBqAK-"
      },
      "outputs": [],
      "source": [
        "# 퍼셉트론 결정 함수(단위 계단 함수)와 결정 경계\n",
        "Image(url='https://git.io/JtIbL', width=500)"
      ]
    },
    {
      "cell_type": "markdown",
      "metadata": {
        "id": "33qewaGv3ezu"
      },
      "source": [
        "<br>"
      ]
    },
    {
      "cell_type": "markdown",
      "metadata": {
        "id": "q4CbGXjyqAK-"
      },
      "source": [
        "### 2.1.2 퍼셉트론 학습 규칙"
      ]
    },
    {
      "cell_type": "markdown",
      "metadata": {
        "id": "y1smPkjyqAK_"
      },
      "source": [
        "$\\Delta w_j = \\eta(y^{(i)}-\\hat{y}^{(i)})x_j^{(i)}$\n",
        "\n",
        "$w_j := w_j + \\Delta w_j$"
      ]
    },
    {
      "cell_type": "markdown",
      "metadata": {
        "id": "XApIteAcqAK_"
      },
      "source": [
        "클래스 레이블을 정확히 예측한 경우 :\n",
        "\n",
        "$y^{(i)}=-1,\\; \\hat{y}^{(i)}=-1, \\qquad \\Delta w_j=\\eta(-1-(-1))x_j^{(i)}=0$\n",
        "\n",
        "$y^{(i)}=1,\\; \\hat{y}^{(i)}=1, \\qquad \\Delta w_j=\\eta(1-1)x_j^{(i)}=0$"
      ]
    },
    {
      "cell_type": "markdown",
      "metadata": {
        "id": "u55ceXR9qAK_"
      },
      "source": [
        "클래스 레이블을 잘못 예측한 경우 :\n",
        "\n",
        "$y^{(i)}=1,\\;\\hat{y}^{(i)}=-1, \\qquad \\Delta w_j=\\eta(1-(-1))x_j^{(i)}=\\eta(2)x_j^{(i)}$\n",
        "\n",
        "$y^{(i)}=-1,\\;\\hat{y}^{(i)}=1, \\qquad \\Delta w_j=\\eta(-1-1)x_j^{(i)}=\\eta(-2)x_j^{(i)}$"
      ]
    },
    {
      "cell_type": "markdown",
      "metadata": {
        "id": "j6jDxcEoqAK_"
      },
      "source": [
        "예를 들어 $\\hat{y}^{(i)}=-1,\\;y^{(i)}=+1,\\;\\eta=1$ 이고, $x_j^{(i)}=0.5$ 일 때 :\n",
        "\n",
        "$\\Delta w_j=(1-(-1))0.5=(2)0.5=1$\n",
        "\n",
        "$x_j^{(i)}=2$ 일 때 :\n",
        "\n",
        "$\\Delta w_j=(1-(-1))2=(2)2=4$"
      ]
    },
    {
      "cell_type": "code",
      "execution_count": null,
      "metadata": {
        "execution": {
          "iopub.execute_input": "2021-10-23T05:49:14.452950Z",
          "iopub.status.busy": "2021-10-23T05:49:14.452160Z",
          "iopub.status.idle": "2021-10-23T05:49:14.455702Z",
          "shell.execute_reply": "2021-10-23T05:49:14.456150Z"
        },
        "id": "QeJHXlU4qAK_"
      },
      "outputs": [],
      "source": [
        "Image(url='https://git.io/JtIbq', width=600)"
      ]
    },
    {
      "cell_type": "code",
      "execution_count": null,
      "metadata": {
        "execution": {
          "iopub.execute_input": "2021-10-23T05:49:14.461662Z",
          "iopub.status.busy": "2021-10-23T05:49:14.460639Z",
          "iopub.status.idle": "2021-10-23T05:49:14.464422Z",
          "shell.execute_reply": "2021-10-23T05:49:14.464881Z"
        },
        "id": "kRRcFM_BqALA"
      },
      "outputs": [],
      "source": [
        "# 퍼셉트론 알고리즘\n",
        "Image(url='https://git.io/JtIbO', width=600)"
      ]
    },
    {
      "cell_type": "markdown",
      "metadata": {
        "id": "E813AMpDqALA"
      },
      "source": [
        "## 2.2 파이썬으로 퍼셉트론 학습 알고리즘 구현"
      ]
    },
    {
      "cell_type": "markdown",
      "metadata": {
        "id": "X53-_PH3qALA"
      },
      "source": [
        "### 2.2.1 객체 지향 퍼셉트론 API"
      ]
    },
    {
      "cell_type": "code",
      "execution_count": null,
      "metadata": {
        "execution": {
          "iopub.execute_input": "2021-10-23T05:49:14.476082Z",
          "iopub.status.busy": "2021-10-23T05:49:14.473555Z",
          "iopub.status.idle": "2021-10-23T05:49:14.611511Z",
          "shell.execute_reply": "2021-10-23T05:49:14.612056Z"
        },
        "id": "UYXKL2ixqALA"
      },
      "outputs": [],
      "source": [
        "import numpy as np\n",
        "\n",
        "\n",
        "class Perceptron(object):\n",
        "    \"\"\"퍼셉트론 분류기 구현\n",
        "\n",
        "    매개변수\n",
        "    ------------\n",
        "    eta : float\n",
        "      학습률 (0.0과 1.0 사이)\n",
        "    n_iter : int\n",
        "      훈련 데이터셋 반복 횟수\n",
        "    random_state : int\n",
        "      가중치 무작위 초기화를 위한 난수 생성기 시드\n",
        "\n",
        "    속성\n",
        "    -----------\n",
        "    w_ : 1d-array\n",
        "      학습된 가중치\n",
        "    errors_ : list\n",
        "      에포크마다 누적된 분류 오류\n",
        "\n",
        "    \"\"\"\n",
        "    def __init__(self, eta=0.01, n_iter=50, random_state=1):\n",
        "        ''' 초기화 함수 구현 '''\n",
        "\n",
        "\n",
        "    def fit(self, X, y):\n",
        "        \"\"\"훈련 데이터 학습 함수 구현\n",
        "\n",
        "        매개변수\n",
        "        ----------\n",
        "        X : array-like, shape = [n_samples, n_features]\n",
        "          n_samples개의 샘플과 n_features개의 특성으로 이루어진 훈련 데이터\n",
        "        y : array-like, shape = [n_samples]\n",
        "          타깃값\n",
        "\n",
        "        반환값\n",
        "        -------\n",
        "        self : object\n",
        "\n",
        "        \"\"\"\n",
        "\n",
        "\n",
        "    def net_input(self, X):\n",
        "        \"\"\"입력 계산 함수 구현\"\"\"\n",
        "\n",
        "\n",
        "\n",
        "    def predict(self, X):\n",
        "        \"\"\" 에측 함수 구현\"\"\"\n",
        "\n"
      ]
    },
    {
      "cell_type": "markdown",
      "metadata": {
        "id": "DNlBnC_U3ezu"
      },
      "source": [
        "$\\boldsymbol{w}^{(1)} = \\boldsymbol{w}^{(0)}+\\mathit\\Delta\\boldsymbol{w}=\\boldsymbol{w}^{(0)}+\\eta(\\boldsymbol{y}-\\boldsymbol{\\hat{y}})\\boldsymbol{x}=\\eta(\\boldsymbol{y}-\\phi(\\boldsymbol{w}^{(0)}\\boldsymbol{x}))\\boldsymbol{x}=\\eta(\\boldsymbol{y}+1)\\boldsymbol{x}$\n",
        "\n",
        "$a\\cdot b =\\vert a\\vert\\vert b\\vert\\text{cos}\\theta$\n",
        "\n",
        "$\\theta=\\text{cos}^{-1}\\dfrac{a\\cdot b}{\\vert a\\vert\\vert b\\vert}$"
      ]
    },
    {
      "cell_type": "markdown",
      "metadata": {
        "id": "TXzkl6OdqALB"
      },
      "source": [
        "### 2.2.2 붓꽃 데이터셋에서 퍼셉트론 훈련"
      ]
    },
    {
      "cell_type": "markdown",
      "metadata": {
        "id": "raRwqKBRqALC"
      },
      "source": [
        "### 붓꽃 데이터셋 읽기"
      ]
    },
    {
      "cell_type": "code",
      "execution_count": null,
      "metadata": {
        "execution": {
          "iopub.execute_input": "2021-10-23T05:49:14.624758Z",
          "iopub.status.busy": "2021-10-23T05:49:14.624131Z",
          "iopub.status.idle": "2021-10-23T05:49:15.647834Z",
          "shell.execute_reply": "2021-10-23T05:49:15.647022Z"
        },
        "id": "7fZajroDqALC"
      },
      "outputs": [],
      "source": [
        "# 라이브러리 import 후 iris.csv read (dataset link 사용)\n",
        "import os\n",
        "import pandas as pd\n",
        "\n",
        "s = 'https://archive.ics.uci.edu/ml/machine-learning-databases/iris/iris.data'\n"
      ]
    },
    {
      "cell_type": "markdown",
      "metadata": {
        "id": "Lc6Bt3ogqALD"
      },
      "source": [
        "### 붓꽃 데이터 그래프 그리기"
      ]
    },
    {
      "cell_type": "code",
      "source": [
        "import matplotlib.pyplot as plt\n",
        "import numpy as np\n",
        "\n",
        "# setosa와 versicolor를 선택, 출력하여 확인\n"
      ],
      "metadata": {
        "id": "-8-V4APpzIpw"
      },
      "execution_count": null,
      "outputs": []
    },
    {
      "cell_type": "code",
      "execution_count": null,
      "metadata": {
        "execution": {
          "iopub.execute_input": "2021-10-23T05:49:15.658083Z",
          "iopub.status.busy": "2021-10-23T05:49:15.657338Z",
          "iopub.status.idle": "2021-10-23T05:49:16.078313Z",
          "shell.execute_reply": "2021-10-23T05:49:16.077583Z"
        },
        "id": "XcshxMesqALD"
      },
      "outputs": [],
      "source": [
        "%matplotlib inline\n",
        "import matplotlib.pyplot as plt\n",
        "import numpy as np\n",
        "\n",
        "# setosa와 versicolor를 선택\n",
        "\n",
        "\n",
        "# numpy where 함수, 조건이 true -> -1 반환, false -> 1 반환\n",
        "\n",
        "# 꽃받침 길이와 꽃잎 길이를 특징 값으로 추출\n",
        "\n",
        "# 산점도 출력, setosa - o versicolor - x\n"
      ]
    },
    {
      "cell_type": "markdown",
      "metadata": {
        "id": "i1Iv80F_qALD"
      },
      "source": [
        "### 퍼셉트론 모델 훈련하기"
      ]
    },
    {
      "cell_type": "code",
      "execution_count": null,
      "metadata": {
        "execution": {
          "iopub.execute_input": "2021-10-23T05:49:16.137478Z",
          "iopub.status.busy": "2021-10-23T05:49:16.083504Z",
          "iopub.status.idle": "2021-10-23T05:49:16.234584Z",
          "shell.execute_reply": "2021-10-23T05:49:16.235431Z"
        },
        "id": "i7rZoVY9qALE"
      },
      "outputs": [],
      "source": [
        "# Perceptron 선언 및 학습\n",
        "\n",
        "\n",
        "# Epochs당 Number of updates그래프 출력\n"
      ]
    },
    {
      "cell_type": "markdown",
      "metadata": {
        "id": "uPBaThajqALE"
      },
      "source": [
        "### 결정 경계 그래프 함수"
      ]
    },
    {
      "cell_type": "code",
      "execution_count": null,
      "metadata": {
        "execution": {
          "iopub.execute_input": "2021-10-23T05:49:16.248170Z",
          "iopub.status.busy": "2021-10-23T05:49:16.246966Z",
          "iopub.status.idle": "2021-10-23T05:49:16.249608Z",
          "shell.execute_reply": "2021-10-23T05:49:16.248983Z"
        },
        "id": "RKhIj0ynqALE"
      },
      "outputs": [],
      "source": [
        "from matplotlib.colors import ListedColormap\n",
        "\n",
        "# 결정 경계 그래프 함수 정의\n",
        "def plot_decision_regions(X, y, classifier, resolution=0.01):\n"
      ]
    },
    {
      "cell_type": "code",
      "execution_count": null,
      "metadata": {
        "execution": {
          "iopub.execute_input": "2021-10-23T05:49:16.255014Z",
          "iopub.status.busy": "2021-10-23T05:49:16.254186Z",
          "iopub.status.idle": "2021-10-23T05:49:16.462238Z",
          "shell.execute_reply": "2021-10-23T05:49:16.462696Z"
        },
        "id": "ux8HGXQSqALE"
      },
      "outputs": [],
      "source": [
        "# 결정 경계 그래프 출력\n"
      ]
    }
  ],
  "metadata": {
    "anaconda-cloud": {},
    "colab": {
      "provenance": []
    },
    "kernelspec": {
      "display_name": "Python 3",
      "language": "python",
      "name": "python3"
    },
    "language_info": {
      "codemirror_mode": {
        "name": "ipython",
        "version": 3
      },
      "file_extension": ".py",
      "mimetype": "text/x-python",
      "name": "python",
      "nbconvert_exporter": "python",
      "pygments_lexer": "ipython3",
      "version": "3.7.3"
    }
  },
  "nbformat": 4,
  "nbformat_minor": 0
}