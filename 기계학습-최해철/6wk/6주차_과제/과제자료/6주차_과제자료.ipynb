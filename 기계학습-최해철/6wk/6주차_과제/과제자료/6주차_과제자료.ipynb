{
 "cells": [
  {
   "cell_type": "markdown",
   "metadata": {
    "id": "ADzjSGHdyS-b"
   },
   "source": [
    "# 실습 과제\n",
    "\n",
    ">  **data 폴더의 wine.csv를 read 하여 데이터 분석 및 Perceptron을 이용한 결정 경계 그래프 그리기**\n",
    "\n",
    "- wine.csv dataset의 alcohol(1번째 열)과 proline(13번째 열)을 특징으로 사용하여 wine의 class 예측  \n",
    "- 5주차 실습에서 사용한 MinMaxScaler 혹은 StandardScaler를 사용하여 데이터셋 정규화 수행\n",
    "- 목표: **wine.csv의 산점도**, **epoch당 number of updates 그래프** 및 **결정 경계 그래프** 등 시각화\n",
    "- 과제는 해당 셀 아래에 작성\n",
    "- 권장사항: 다른 특징을 사용한 결정 경계 그래프 확인\n",
    "- [[wine dataset 정보]](https://archive.ics.uci.edu/dataset/109/wine)"
   ]
  },
  {
   "cell_type": "code",
   "execution_count": null,
   "metadata": {
    "id": "QTBM5-TBY9N3"
   },
   "outputs": [],
   "source": [
    "# data 폴더의 wine.csv read"
   ]
  },
  {
   "cell_type": "code",
   "execution_count": null,
   "metadata": {
    "id": "3PfuEbtFZI6g"
   },
   "outputs": [],
   "source": [
    "# 붓꽃 예제의 np.where 함수 용법을 참고하여, wine.csv의 정답 클래스 전처리\n",
    "# Hint: wine의 정답 class는 0번 열에 위치"
   ]
  },
  {
   "cell_type": "code",
   "execution_count": null,
   "metadata": {
    "id": "_RSaVOR_ZTEi"
   },
   "outputs": [],
   "source": [
    "# X 값으로 사용할 변수에 dataframe의 alchol(1번 열) proline(10번 열)의 값을\n",
    "# 담아 특징으로 사용"
   ]
  },
  {
   "cell_type": "code",
   "execution_count": null,
   "metadata": {
    "id": "dvUu1ES6zvWv"
   },
   "outputs": [],
   "source": [
    "# X값에 대해 MinMaxScaler or StandardScaler 함수로 정규화 수행"
   ]
  },
  {
   "cell_type": "code",
   "execution_count": null,
   "metadata": {
    "id": "zIXWA7EIa43g"
   },
   "outputs": [],
   "source": [
    "# 산점도 그리기 - class 1 -> (x_wine 0 ~ 55), class2 -> (x_wine 56 ~ 121)"
   ]
  },
  {
   "cell_type": "code",
   "execution_count": null,
   "metadata": {
    "id": "xxU-E3W8bLji"
   },
   "outputs": [],
   "source": [
    "# Perceptron 설정 및 학습 (eta, n_itrer 조정 추천)\n",
    "# Epochs당 Number of updates 그래프 출력"
   ]
  },
  {
   "cell_type": "code",
   "execution_count": null,
   "metadata": {
    "id": "aYtUKEK4beLA"
   },
   "outputs": [],
   "source": [
    "# 결정 경계 그래프 출력"
   ]
  }
 ],
 "metadata": {
  "anaconda-cloud": {},
  "colab": {
   "provenance": []
  },
  "kernelspec": {
   "display_name": "Python 3 (ipykernel)",
   "language": "python",
   "name": "python3"
  },
  "language_info": {
   "codemirror_mode": {
    "name": "ipython",
    "version": 3
   },
   "file_extension": ".py",
   "mimetype": "text/x-python",
   "name": "python",
   "nbconvert_exporter": "python",
   "pygments_lexer": "ipython3",
   "version": "3.10.9"
  }
 },
 "nbformat": 4,
 "nbformat_minor": 1
}
