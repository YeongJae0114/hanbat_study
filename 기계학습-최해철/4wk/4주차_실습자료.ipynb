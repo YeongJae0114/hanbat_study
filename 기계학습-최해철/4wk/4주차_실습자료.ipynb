{
  "cells": [
    {
      "cell_type": "code",
      "source": [
        "# 구글 드라이브 사용 권한 설정\n",
        "from google.colab import drive\n",
        "drive.mount('/content/drive')"
      ],
      "metadata": {
        "id": "ADD1LUcWOca1",
        "colab": {
          "base_uri": "https://localhost:8080/",
          "height": 0
        },
        "outputId": "44315385-fddb-4bec-fc84-c44960ee2534"
      },
      "execution_count": 1,
      "outputs": [
        {
          "output_type": "stream",
          "name": "stdout",
          "text": [
            "Mounted at /content/drive\n"
          ]
        }
      ]
    },
    {
      "cell_type": "code",
      "source": [
        "# 작업할 폴더 위치 설정 (본인 폴더 경로에 맞게 수정필요)\n",
        "colab_path = \"/content/drive/MyDrive/MachineLearning/4wk\""
      ],
      "metadata": {
        "id": "Ub1TFpMPWHFE"
      },
      "execution_count": 2,
      "outputs": []
    },
    {
      "cell_type": "markdown",
      "source": [
        "##Python에서 다차원 배열 작업을 위한 NumPy 라이브러리에 대한 실습\n",
        "\n",
        "NumPy: Numerical Python의 줄임말로 NumPy는 다차원 배열 데이터 구조를 효율적으로 사용할 수 있는 편리한 Python 인터페이스를 제공\n"
      ],
      "metadata": {
        "id": "KzUqEOGSvOXv"
      }
    },
    {
      "cell_type": "markdown",
      "metadata": {
        "id": "tUpjdW7rjqfG"
      },
      "source": [
        "### N-dimensional Arrays(ndarray)\n",
        "- 고정된 크기의 동형 다차원 배열\n",
        "- 고정된 크기: 배열을 생성할 때, 크기 결정\n",
        "- 동형: 같은 type의 원소로 구성된 배열"
      ]
    },
    {
      "cell_type": "code",
      "execution_count": 3,
      "metadata": {
        "id": "t2VD-RFKjqfH",
        "colab": {
          "base_uri": "https://localhost:8080/",
          "height": 0
        },
        "outputId": "e567d3fa-696d-4b42-b255-afbdeeb3ed93"
      },
      "outputs": [
        {
          "output_type": "stream",
          "name": "stdout",
          "text": [
            "[[1 2 3]\n",
            " [4 5 6]]\n",
            "[0.1 0.2 0.3]\n"
          ]
        }
      ],
      "source": [
        "# numpy 라이브러리 import\n",
        "import numpy as np\n",
        "\n",
        "# list로 numpy array 생성\n",
        "lst = [[1,2,3],[4,5,6]]\n",
        "ary2d = np.array(lst)\n",
        "print(ary2d)\n",
        "# tuple로 numpy array 생성\n",
        "tup = ((0.1,0.2,0.3))\n",
        "ary2d_2 = np.array(tup)\n",
        "print(ary2d_2)"
      ]
    },
    {
      "cell_type": "markdown",
      "source": [
        "기본적으로 NumPy는 ndarray를 생성할 때, 배열의 유형을 추론  \n",
        "Python 정수를 배열에 전달했으므로 `ndarray` 객체 `ary2d`는 64비트 시스템에서 `int64` 유형이어야 하고, 이는 `dtype` 속성을 출력하여 확인 가능"
      ],
      "metadata": {
        "id": "jNFYLPFpwPtB"
      }
    },
    {
      "cell_type": "code",
      "execution_count": 4,
      "metadata": {
        "id": "l3UO2rNujqfI",
        "colab": {
          "base_uri": "https://localhost:8080/",
          "height": 0
        },
        "outputId": "9420fd0b-f82f-46ac-dd51-f26c9bd51e0e"
      },
      "outputs": [
        {
          "output_type": "execute_result",
          "data": {
            "text/plain": [
              "dtype('int64')"
            ]
          },
          "metadata": {},
          "execution_count": 4
        }
      ],
      "source": [
        "# 생성한 배열의 data type 확인\n",
        "ary2d.dtype\n"
      ]
    },
    {
      "cell_type": "markdown",
      "source": [
        "다양한 유형의 NumPy 배열을 구성하려면 `array` 함수의 `dtype` 매개변수에 인수를 전달할 수 있음  \n",
        "예를 들어 `np.int32`를 사용하면 32비트 배열을 생성 가능  \n",
        "지원되는 데이터 유형의 전체 목록은 공식 [NumPy 문서](https://docs.scipy.org/doc/numpy/user/basics.types.html)를 참조  \n",
        "배열이 생성되면 다음 예와 같이 `astype` 메서드를 통해 해당 유형을 다운캐스트하거나 다시 캐스팅할 수 있음"
      ],
      "metadata": {
        "id": "uVEOuJ8SwUJ9"
      }
    },
    {
      "cell_type": "code",
      "execution_count": 5,
      "metadata": {
        "id": "h809LKNTjqfI",
        "colab": {
          "base_uri": "https://localhost:8080/",
          "height": 0
        },
        "outputId": "40144bfc-83c6-469c-cf77-28b72e0495be"
      },
      "outputs": [
        {
          "output_type": "execute_result",
          "data": {
            "text/plain": [
              "array([[1., 2., 3.],\n",
              "       [4., 5., 6.]], dtype=float32)"
            ]
          },
          "metadata": {},
          "execution_count": 5
        }
      ],
      "source": [
        "# 생성한 배열의 type을 float32로 변경 및 출력\n",
        "float32_ary = ary2d. astype(np. float32)\n",
        "float32_ary"
      ]
    },
    {
      "cell_type": "code",
      "execution_count": 6,
      "metadata": {
        "id": "HItGvEHbjqfJ",
        "colab": {
          "base_uri": "https://localhost:8080/",
          "height": 0
        },
        "outputId": "1c495b3d-0817-48d9-be9d-3ac97e682a76"
      },
      "outputs": [
        {
          "output_type": "execute_result",
          "data": {
            "text/plain": [
              "dtype('float32')"
            ]
          },
          "metadata": {},
          "execution_count": 6
        }
      ],
      "source": [
        "# 배열의 타입 확인\n",
        "float32_ary.dtype"
      ]
    },
    {
      "cell_type": "code",
      "execution_count": 7,
      "metadata": {
        "id": "JA3JDoyUjqfJ",
        "colab": {
          "base_uri": "https://localhost:8080/",
          "height": 0
        },
        "outputId": "44a3e15d-eb9c-41b2-ad36-f5ebd67830d3"
      },
      "outputs": [
        {
          "output_type": "execute_result",
          "data": {
            "text/plain": [
              "6"
            ]
          },
          "metadata": {},
          "execution_count": 7
        }
      ],
      "source": [
        "# 배열 요소의 갯수 확인\n",
        "ary2d.size"
      ]
    },
    {
      "cell_type": "code",
      "source": [
        "# 배열의 차원 수 확인\n",
        "ary2d.ndim"
      ],
      "metadata": {
        "id": "vYb_23-j916j",
        "colab": {
          "base_uri": "https://localhost:8080/",
          "height": 0
        },
        "outputId": "0785053d-0525-495c-aabf-9cebf431e2a3"
      },
      "execution_count": 8,
      "outputs": [
        {
          "output_type": "execute_result",
          "data": {
            "text/plain": [
              "2"
            ]
          },
          "metadata": {},
          "execution_count": 8
        }
      ]
    },
    {
      "cell_type": "code",
      "source": [
        "# 각 배열 차원의 요소 수(*)\n",
        "ary2d.shape"
      ],
      "metadata": {
        "id": "M2YHr7q_93gI",
        "colab": {
          "base_uri": "https://localhost:8080/",
          "height": 0
        },
        "outputId": "37621474-01e2-4aa9-ff32-fcda9098a33d"
      },
      "execution_count": 9,
      "outputs": [
        {
          "output_type": "execute_result",
          "data": {
            "text/plain": [
              "(2, 3)"
            ]
          },
          "metadata": {},
          "execution_count": 9
        }
      ]
    },
    {
      "cell_type": "markdown",
      "metadata": {
        "id": "wFyU8zyfjqfL"
      },
      "source": [
        "## Array Construction Routines  \n",
        "#### 이 섹션에서는 배열 구성 함수를 소개\n",
        "- 1이나 0의 배열을 생성하는 것은 계산에 초기 값을 사용하지 않고 즉시 다른 값으로 채우려는 경우 자리 표시자 배열로 유용할 수 있음"
      ]
    },
    {
      "cell_type": "code",
      "execution_count": 10,
      "metadata": {
        "id": "pRPhKg3jjqfL",
        "colab": {
          "base_uri": "https://localhost:8080/",
          "height": 0
        },
        "outputId": "75fc7b1f-626c-4667-a61a-8f4b690722ff"
      },
      "outputs": [
        {
          "output_type": "execute_result",
          "data": {
            "text/plain": [
              "array([[1., 1., 1.],\n",
              "       [1., 1., 1.],\n",
              "       [1., 1., 1.]])"
            ]
          },
          "metadata": {},
          "execution_count": 10
        }
      ],
      "source": [
        "# 배열의 요소를 모두 1로 초기화\n",
        "np.ones((3,3))"
      ]
    },
    {
      "cell_type": "code",
      "execution_count": 11,
      "metadata": {
        "id": "f2sccs8cjqfL",
        "colab": {
          "base_uri": "https://localhost:8080/",
          "height": 0
        },
        "outputId": "600168f2-df36-49f8-b842-5510c2c59d36"
      },
      "outputs": [
        {
          "output_type": "execute_result",
          "data": {
            "text/plain": [
              "array([[0., 0., 0.],\n",
              "       [0., 0., 0.],\n",
              "       [0., 0., 0.]])"
            ]
          },
          "metadata": {},
          "execution_count": 11
        }
      ],
      "source": [
        "# 배열의 요소를 모두 0로 초기화\n",
        "np.zeros((3,3))"
      ]
    },
    {
      "cell_type": "code",
      "execution_count": 12,
      "metadata": {
        "id": "4J3zWVD2jqfM",
        "colab": {
          "base_uri": "https://localhost:8080/",
          "height": 0
        },
        "outputId": "19ef3ebe-95cf-4860-bf38-924e6500fe01"
      },
      "outputs": [
        {
          "output_type": "execute_result",
          "data": {
            "text/plain": [
              "array([[1., 0., 0.],\n",
              "       [0., 1., 0.],\n",
              "       [0., 0., 1.]])"
            ]
          },
          "metadata": {},
          "execution_count": 12
        }
      ],
      "source": [
        "# np.eye(n) -> nxn차원의 대각행렬 생성\n",
        "np.eye(3)"
      ]
    },
    {
      "cell_type": "markdown",
      "source": [
        "**np.diag은 두가지 기능을 제공**\n",
        "\n",
        "- 대각행렬 생성 기능 : v가 1차원 배열일때, v를 대각행렬로 하는 2차원 배열을 만들어줌\n",
        "- 대각요소 추출 기능 : v가 2차원 배열일때, v의 대각선 요소들을 1차원으로 뽑아줌"
      ],
      "metadata": {
        "id": "kydzfbLS_8HE"
      }
    },
    {
      "cell_type": "code",
      "source": [
        "# [0 1 2] 값을 가지는 list arr1d 생성\n",
        "arrid = np.arange (3)\n",
        "print(arrid)\n",
        "# arr1d의 값으로 대칭행렬로 만들어 출력\n",
        "print(np.diag(arrid))"
      ],
      "metadata": {
        "id": "xVLSTrgDAknc",
        "colab": {
          "base_uri": "https://localhost:8080/",
          "height": 0
        },
        "outputId": "671affa9-545a-4942-d688-e9248eaf3905"
      },
      "execution_count": 13,
      "outputs": [
        {
          "output_type": "stream",
          "name": "stdout",
          "text": [
            "[0 1 2]\n",
            "[[0 0 0]\n",
            " [0 1 0]\n",
            " [0 0 2]]\n"
          ]
        }
      ]
    },
    {
      "cell_type": "code",
      "source": [
        "# [0, 1, 2, ..., 8]의 값을 가지는 3x3형태의 2차원 list arr2d 생성\n",
        "arr2d = np.arange(9).reshape((3,3))\n",
        "print(arr2d)\n",
        "# arr2d의 대각선 요소를 출력\n",
        "print(f\"np.diag(arr2d): {np.diag(arr2d)}\")"
      ],
      "metadata": {
        "id": "Up79LJ2wALPz",
        "colab": {
          "base_uri": "https://localhost:8080/",
          "height": 0
        },
        "outputId": "2d1f5674-9d8a-4fa6-8493-a3556d526f32"
      },
      "execution_count": 14,
      "outputs": [
        {
          "output_type": "stream",
          "name": "stdout",
          "text": [
            "[[0 1 2]\n",
            " [3 4 5]\n",
            " [6 7 8]]\n",
            "np.diag(arr2d): [0 4 8]\n"
          ]
        }
      ]
    },
    {
      "cell_type": "code",
      "execution_count": 15,
      "metadata": {
        "id": "TqCcGRCdjqfM",
        "colab": {
          "base_uri": "https://localhost:8080/",
          "height": 0
        },
        "outputId": "4107fa8e-8465-4dee-e6de-0018b577c82a"
      },
      "outputs": [
        {
          "output_type": "execute_result",
          "data": {
            "text/plain": [
              "array([[1, 0, 0],\n",
              "       [0, 2, 0],\n",
              "       [0, 0, 3]])"
            ]
          },
          "metadata": {},
          "execution_count": 15
        }
      ],
      "source": [
        "# (1, 2, 3)로 대각행렬 생성\n",
        "np.diag((1,2,3))\n"
      ]
    },
    {
      "cell_type": "markdown",
      "metadata": {
        "id": "9TfqBRd-jqfM"
      },
      "source": [
        "지정된 범위 내에서 일련의 숫자를 생성하는 함수: `arange`, `linspace`  \n",
        " NumPy의 `arange` 함수는 Python의 `range` 객체와 동일한 구문형식을 가짐  \n",
        "- 두 개의 인수가 제공되면 첫 번째 인수는 시작 값을 나타내고 두 번째 값은 중지 값을 정의\n",
        "- Python의 `range`와 유사하게 세 번째 인수를 제공하여 단계를 정의할 수 있음"
      ]
    },
    {
      "cell_type": "code",
      "execution_count": 16,
      "metadata": {
        "id": "XXTYv0XkjqfM",
        "colab": {
          "base_uri": "https://localhost:8080/",
          "height": 0
        },
        "outputId": "fa1d3f9b-bf85-4299-9d3c-7562114f1601"
      },
      "outputs": [
        {
          "output_type": "execute_result",
          "data": {
            "text/plain": [
              "array([4., 5., 6., 7., 8., 9.])"
            ]
          },
          "metadata": {},
          "execution_count": 16
        }
      ],
      "source": [
        "# numpy의 arange 함수를 사용하여 4에서 10까지의 값을 가지는 배열 생성\n",
        "np.arange(4., 10.)\n"
      ]
    },
    {
      "cell_type": "code",
      "execution_count": 17,
      "metadata": {
        "id": "dT31x5Q1jqfN",
        "colab": {
          "base_uri": "https://localhost:8080/",
          "height": 0
        },
        "outputId": "af8514c3-8146-491f-bbaa-35512ea5d1e3"
      },
      "outputs": [
        {
          "output_type": "execute_result",
          "data": {
            "text/plain": [
              "array([1., 3., 5., 7., 9.])"
            ]
          },
          "metadata": {},
          "execution_count": 17
        }
      ],
      "source": [
        "# numpy의 arange 함수를 사용하여 1에서 11까지 2씩 더해지는 배열을 생성\n",
        "\n",
        "np.arange (1., 11., 2)"
      ]
    },
    {
      "cell_type": "markdown",
      "metadata": {
        "id": "bOfcgV2bjqfN"
      },
      "source": [
        "`linspace` 함수는 지정된 범위에서 지정한 갯수의 균일한 값을 가지는 배열을 생성가능"
      ]
    },
    {
      "cell_type": "code",
      "execution_count": 18,
      "metadata": {
        "id": "-b0vtTW5jqfO",
        "colab": {
          "base_uri": "https://localhost:8080/",
          "height": 0
        },
        "outputId": "4aa2203a-752f-40d1-c8ff-b9cfadc2869b"
      },
      "outputs": [
        {
          "output_type": "execute_result",
          "data": {
            "text/plain": [
              "array([0.  , 0.25, 0.5 , 0.75, 1.  ])"
            ]
          },
          "metadata": {},
          "execution_count": 18
        }
      ],
      "source": [
        "# numpy의 linspace 함수를 사용하여 0에서 1사이에 균일한 간격을 가지는 5개 요소를 가지는 배열 생성\n",
        "np.linspace (0.,1., num=5)\n"
      ]
    },
    {
      "cell_type": "markdown",
      "metadata": {
        "id": "IhYEcuXAjqfP"
      },
      "source": [
        "### Array Indexing"
      ]
    },
    {
      "cell_type": "markdown",
      "metadata": {
        "id": "EKBfEL_NjqfP"
      },
      "source": [
        "이 섹션에서는 다양한 인덱싱 방법을 통해 NumPy 배열 요소를 검색하는 기본 사항을 살펴보겠습니다. 간단한 NumPy 인덱싱 및 슬라이싱은 Python 목록과 유사하게 작동하며, 1차원 배열의 첫 번째 요소를 검색하는 다음 코드 조각에서 이를 보여줍니다."
      ]
    },
    {
      "cell_type": "code",
      "execution_count": 19,
      "metadata": {
        "id": "QxYcHIqzjqfP",
        "colab": {
          "base_uri": "https://localhost:8080/",
          "height": 0
        },
        "outputId": "c6290f5b-8920-4917-bd61-89fb8c8dafdb"
      },
      "outputs": [
        {
          "output_type": "execute_result",
          "data": {
            "text/plain": [
              "1"
            ]
          },
          "metadata": {},
          "execution_count": 19
        }
      ],
      "source": [
        "# numpy array ary를 생성하여 첫번째 요소를 출력\n",
        "ary = np.array([1, 2, 3])\n",
        "ary[0]"
      ]
    },
    {
      "cell_type": "code",
      "execution_count": 20,
      "metadata": {
        "id": "U6u5WdQZjqfP",
        "colab": {
          "base_uri": "https://localhost:8080/",
          "height": 0
        },
        "outputId": "1be7ace0-52a8-49a3-9a57-988ef86b2a93"
      },
      "outputs": [
        {
          "output_type": "stream",
          "name": "stdout",
          "text": [
            "[1 2]\n"
          ]
        }
      ],
      "source": [
        "# ary의 처음 두개의 값을 출력\n",
        "\n",
        "print(ary[:2])"
      ]
    },
    {
      "cell_type": "markdown",
      "metadata": {
        "id": "4TKmX3M9jqfQ"
      },
      "source": [
        "둘 이상의 차원이나 축이 있는 배열로 작업하는 경우 아래 일련의 예에 표시된 대로 인덱싱 또는 슬라이싱 작업을 쉼표로 구분합니다."
      ]
    },
    {
      "cell_type": "code",
      "execution_count": 21,
      "metadata": {
        "id": "OUTpzPZTjqfQ",
        "colab": {
          "base_uri": "https://localhost:8080/",
          "height": 0
        },
        "outputId": "6741c78f-035a-4d29-ee60-b1383aff3993"
      },
      "outputs": [
        {
          "output_type": "execute_result",
          "data": {
            "text/plain": [
              "array([[1, 2, 3],\n",
              "       [4, 5, 6]])"
            ]
          },
          "metadata": {},
          "execution_count": 21
        }
      ],
      "source": [
        "# 2차원 array를 생성하여 출력\n",
        "ary = np.array([[1,2,3],\n",
        "               [4,5,6]])\n",
        "ary"
      ]
    },
    {
      "cell_type": "code",
      "execution_count": 22,
      "metadata": {
        "id": "0GA9gZlZjqfQ",
        "colab": {
          "base_uri": "https://localhost:8080/",
          "height": 0
        },
        "outputId": "57515773-18be-443b-d2fa-8f1f9f2059b9"
      },
      "outputs": [
        {
          "output_type": "execute_result",
          "data": {
            "text/plain": [
              "6"
            ]
          },
          "metadata": {},
          "execution_count": 22
        }
      ],
      "source": [
        "# ary의 우하단 값을 출력\n",
        "ary[-1,- 1]# 가장끝값에대한접근"
      ]
    },
    {
      "cell_type": "code",
      "execution_count": 23,
      "metadata": {
        "id": "gpxB58h8jqfQ",
        "colab": {
          "base_uri": "https://localhost:8080/",
          "height": 0
        },
        "outputId": "61da0f1c-6a4f-4871-ba56-fe90edc6969e"
      },
      "outputs": [
        {
          "output_type": "execute_result",
          "data": {
            "text/plain": [
              "2"
            ]
          },
          "metadata": {},
          "execution_count": 23
        }
      ],
      "source": [
        "# ary의 첫번째 행, 두번째 열의 값\n",
        "\n",
        "ary[0,1]"
      ]
    },
    {
      "cell_type": "code",
      "execution_count": 24,
      "metadata": {
        "id": "ETzPLB33jqfR",
        "colab": {
          "base_uri": "https://localhost:8080/",
          "height": 0
        },
        "outputId": "292092b1-2cb0-43d9-c636-2878253f8b81"
      },
      "outputs": [
        {
          "output_type": "execute_result",
          "data": {
            "text/plain": [
              "array([1, 2, 3])"
            ]
          },
          "metadata": {},
          "execution_count": 24
        }
      ],
      "source": [
        "# ary의 첫번째 행 출력\n",
        "\n",
        "ary[0]"
      ]
    },
    {
      "cell_type": "code",
      "execution_count": 25,
      "metadata": {
        "id": "8SRu0-AzjqfR",
        "colab": {
          "base_uri": "https://localhost:8080/",
          "height": 0
        },
        "outputId": "b7e5bca3-321b-4fd8-b7fd-027e7a7789b0"
      },
      "outputs": [
        {
          "output_type": "execute_result",
          "data": {
            "text/plain": [
              "array([1, 4])"
            ]
          },
          "metadata": {},
          "execution_count": 25
        }
      ],
      "source": [
        "# ary의 첫번째 열 출력\n",
        "\n",
        "ary[:,0]"
      ]
    },
    {
      "cell_type": "code",
      "execution_count": 26,
      "metadata": {
        "id": "ckcFt4axjqfR",
        "colab": {
          "base_uri": "https://localhost:8080/",
          "height": 0
        },
        "outputId": "22e251e7-5b23-4c4e-a8cd-406b711afc3a"
      },
      "outputs": [
        {
          "output_type": "execute_result",
          "data": {
            "text/plain": [
              "array([[1, 2],\n",
              "       [4, 5]])"
            ]
          },
          "metadata": {},
          "execution_count": 26
        }
      ],
      "source": [
        "# ary의 모든 행에 대해 2번째 열까지 출력\n",
        "\n",
        "ary[:,:2]"
      ]
    },
    {
      "cell_type": "code",
      "execution_count": 27,
      "metadata": {
        "id": "XLA_qlQxjqfR",
        "colab": {
          "base_uri": "https://localhost:8080/",
          "height": 0
        },
        "outputId": "e57f1cf2-6164-45ae-a8c0-be514ed79cc3"
      },
      "outputs": [
        {
          "output_type": "execute_result",
          "data": {
            "text/plain": [
              "1"
            ]
          },
          "metadata": {},
          "execution_count": 27
        }
      ],
      "source": [
        "# ary의 첫번째 요소 출력\n",
        "\n",
        "ary[0,0]"
      ]
    },
    {
      "cell_type": "markdown",
      "metadata": {
        "id": "DORFu-f6jqfS"
      },
      "source": [
        "### Array Math and Universal Functions"
      ]
    },
    {
      "cell_type": "markdown",
      "metadata": {
        "id": "EtcPfecRjqfS"
      },
      "source": [
        "- ndarray에 수행하는 다양한 연산"
      ]
    },
    {
      "cell_type": "markdown",
      "metadata": {
        "id": "IPd5DTsdjqfU"
      },
      "source": [
        "NumPy는 수학 연산자(`+`, `-`, `/`, `*` 및 `**`)를 직접 사용하여 연산을 수행"
      ]
    },
    {
      "cell_type": "code",
      "execution_count": 28,
      "metadata": {
        "id": "lTLW3X1gjqfU",
        "colab": {
          "base_uri": "https://localhost:8080/",
          "height": 0
        },
        "outputId": "98cf3b18-e7ad-42cb-b2d0-7a834c278aba"
      },
      "outputs": [
        {
          "output_type": "execute_result",
          "data": {
            "text/plain": [
              "array([[2, 3, 4],\n",
              "       [5, 6, 7]])"
            ]
          },
          "metadata": {},
          "execution_count": 28
        }
      ],
      "source": [
        "# 수학연산자 '+'를 사용하여 ary의 모든 요소에 1을 더한 배열을 출력\n",
        "ary + 1\n"
      ]
    },
    {
      "cell_type": "code",
      "execution_count": 29,
      "metadata": {
        "id": "hh8Lt4rZjqfV",
        "colab": {
          "base_uri": "https://localhost:8080/",
          "height": 0
        },
        "outputId": "d7d820a0-59c8-4ab2-9016-210e2006aa46"
      },
      "outputs": [
        {
          "output_type": "execute_result",
          "data": {
            "text/plain": [
              "array([[ 1,  4,  9],\n",
              "       [16, 25, 36]])"
            ]
          },
          "metadata": {},
          "execution_count": 29
        }
      ],
      "source": [
        "# 수학연산자 '**'를 사용하여 ary의 모든 요소의 제곱값을 가지는 배열을 출력\n",
        "\n",
        "ary**2"
      ]
    },
    {
      "cell_type": "code",
      "execution_count": 30,
      "metadata": {
        "id": "kvhsAxVRjqfV"
      },
      "outputs": [],
      "source": [
        "# 2차원 배열 ary 선언\n",
        "ary = np.array([[1,2,3],\n",
        "                [4,5,6]])\n"
      ]
    },
    {
      "cell_type": "code",
      "source": [
        "# numpy의 add.reduce 함수를 사용하여 ary의 각 열의 모든 행의 합에 해당하는 1차원 배열을 출력\n",
        "print(np.add.reduce(ary))\n"
      ],
      "metadata": {
        "id": "C3ubgC9eIneY",
        "colab": {
          "base_uri": "https://localhost:8080/",
          "height": 0
        },
        "outputId": "5472f952-4a2c-4efa-f285-c5a186486fca"
      },
      "execution_count": 31,
      "outputs": [
        {
          "output_type": "stream",
          "name": "stdout",
          "text": [
            "[5 7 9]\n"
          ]
        }
      ]
    },
    {
      "cell_type": "code",
      "source": [
        "# sum 함수를 사용하여 ary의 각 열의 모든 행의 합에 해당하는 1차원 배열을 출력\n",
        "print(ary.sum(axis=0))\n"
      ],
      "metadata": {
        "id": "JKPQjESaIoWj",
        "colab": {
          "base_uri": "https://localhost:8080/",
          "height": 0
        },
        "outputId": "c54f0e59-d935-473f-adff-7737c09b3273"
      },
      "execution_count": 32,
      "outputs": [
        {
          "output_type": "stream",
          "name": "stdout",
          "text": [
            "[5 7 9]\n"
          ]
        }
      ]
    },
    {
      "cell_type": "code",
      "execution_count": 33,
      "metadata": {
        "id": "YiyL4DJ8jqfV",
        "colab": {
          "base_uri": "https://localhost:8080/",
          "height": 0
        },
        "outputId": "dee4ec04-4b4f-4330-8721-45daa9a66ecf"
      },
      "outputs": [
        {
          "output_type": "stream",
          "name": "stdout",
          "text": [
            "[ 6 15]\n"
          ]
        }
      ],
      "source": [
        "# numpy의 add.reduce 함수를 사용하여 ary의 각 행의 모든 열의 합에 해당하는 1차원 배열을 출력\n",
        "\n",
        "print(np.add.reduce(ary,axis=1))\n"
      ]
    },
    {
      "cell_type": "code",
      "source": [
        "# sum 함수를 사용하여 ary의 각 열의 모든 행의 합에 해당하는 1차원 배열을 출력\n",
        "print(ary.sum(axis=0))\n"
      ],
      "metadata": {
        "colab": {
          "base_uri": "https://localhost:8080/",
          "height": 0
        },
        "outputId": "456824f4-301c-49c3-80e6-85a33e1d59aa",
        "id": "kkvcfZ9_Qy-E"
      },
      "execution_count": 34,
      "outputs": [
        {
          "output_type": "stream",
          "name": "stdout",
          "text": [
            "[5 7 9]\n"
          ]
        }
      ]
    },
    {
      "cell_type": "code",
      "source": [
        "# sum 함수를 사용하여 ary의 각 행의 모든 열의 합에 해당하는 1차원 배열을 출력\n",
        "print(ary.sum(axis=1))\n",
        "\n"
      ],
      "metadata": {
        "id": "N9jDjMlUJoLq",
        "colab": {
          "base_uri": "https://localhost:8080/",
          "height": 0
        },
        "outputId": "9ec9debc-a26e-4538-a127-00cce1bb16e9"
      },
      "execution_count": 35,
      "outputs": [
        {
          "output_type": "stream",
          "name": "stdout",
          "text": [
            "[ 6 15]\n"
          ]
        }
      ]
    },
    {
      "cell_type": "code",
      "execution_count": 36,
      "metadata": {
        "id": "9nPPSWUHjqfW",
        "colab": {
          "base_uri": "https://localhost:8080/",
          "height": 0
        },
        "outputId": "4e57906f-bc0a-48f5-a2d5-bd3d3c4c495e"
      },
      "outputs": [
        {
          "output_type": "execute_result",
          "data": {
            "text/plain": [
              "21"
            ]
          },
          "metadata": {},
          "execution_count": 36
        }
      ],
      "source": [
        "# sum 함수를 사용하여 ary 모든 요소의 합을 출력\n",
        "ary.sum()\n"
      ]
    },
    {
      "cell_type": "markdown",
      "metadata": {
        "id": "L8svdKz3jqfX"
      },
      "source": [
        "### Broadcasting"
      ]
    },
    {
      "cell_type": "code",
      "execution_count": 37,
      "metadata": {
        "id": "6mCvX7g1jqfX",
        "colab": {
          "base_uri": "https://localhost:8080/",
          "height": 0
        },
        "outputId": "fd6b9822-2aa9-45d2-ef6d-0eff69b4366e"
      },
      "outputs": [
        {
          "output_type": "execute_result",
          "data": {
            "text/plain": [
              "array([5, 7, 9])"
            ]
          },
          "metadata": {},
          "execution_count": 37
        }
      ],
      "source": [
        "ary1 = np.array([1, 2, 3])\n",
        "ary2 = np.array([4, 5, 6])\n",
        "\n",
        "# '+' 연산자로 ary1과 ary2의 합을 출력\n",
        "ary1+ary2\n"
      ]
    },
    {
      "cell_type": "code",
      "execution_count": 38,
      "metadata": {
        "id": "rQnMRKuRjqfY",
        "colab": {
          "base_uri": "https://localhost:8080/",
          "height": 0
        },
        "outputId": "199cee54-2a17-4fca-d3e4-72083ee7186d"
      },
      "outputs": [
        {
          "output_type": "execute_result",
          "data": {
            "text/plain": [
              "array([[ 5,  7,  9],\n",
              "       [ 8, 10, 12]])"
            ]
          },
          "metadata": {},
          "execution_count": 38
        }
      ],
      "source": [
        "ary3 = np.array([[4, 5, 6],\n",
        "                 [7, 8, 9]])\n",
        "\n",
        "# '+'연산자로 ary3과 ary1의 합을 출력\n",
        "ary3 + ary1\n"
      ]
    },
    {
      "cell_type": "markdown",
      "metadata": {
        "id": "tcWVIO6WjqfY"
      },
      "source": [
        "![](./images/numpy-intro/broadcasting-2.png)"
      ]
    },
    {
      "cell_type": "markdown",
      "metadata": {
        "id": "74DesYv8jqfY"
      },
      "source": [
        "### Advanced Indexing -- Memory Views and Copies"
      ]
    },
    {
      "cell_type": "markdown",
      "metadata": {
        "id": "0nVID0D5jqfY"
      },
      "source": [
        "기본적인 정수 기반 인덱싱 및 슬라이싱은 메모리에 NumPy 배열의 *view*를 생성  (얕은 복사)  \n",
        "view: 메모리 자원을 절약하기 위해 불필요한 배열 복사본을 만드는 작업 방지"
      ]
    },
    {
      "cell_type": "code",
      "execution_count": 39,
      "metadata": {
        "id": "4MD9cwqDjqfZ",
        "colab": {
          "base_uri": "https://localhost:8080/",
          "height": 0
        },
        "outputId": "086e9986-0556-472d-dc35-87c1d8e930ae"
      },
      "outputs": [
        {
          "output_type": "execute_result",
          "data": {
            "text/plain": [
              "array([[100, 101, 102],\n",
              "       [  4,   5,   6]])"
            ]
          },
          "metadata": {},
          "execution_count": 39
        }
      ],
      "source": [
        "ary = np.array([[1, 2, 3],\n",
        "                [4, 5, 6]])\n",
        "\n",
        "# ary의 첫번째 행을 대입연산자'='을 사용하여 first_row에 입력\n",
        "first_row=ary[0]\n",
        "\n",
        "# first_row의 각 요소에 99를 더하여 출력\n",
        "first_row +=99\n",
        "ary"
      ]
    },
    {
      "cell_type": "markdown",
      "metadata": {
        "id": "D7kmBW6RjqfZ"
      },
      "source": [
        "위의 예제에 나타나는 것과 같이 `first_row` 값을 변경하면 원래 배열에도 영향을 미침.  \n",
        "그 이유는 `ary[0]`이 `ary`의 첫 번째 행에 대한 view를 생성한 후 해당 요소가 99만큼 증가했기 때문  "
      ]
    },
    {
      "cell_type": "code",
      "execution_count": 40,
      "metadata": {
        "id": "DPzC6nLSjqfZ",
        "colab": {
          "base_uri": "https://localhost:8080/",
          "height": 0
        },
        "outputId": "9c40a22e-d8c1-4862-c525-8c780fdc6e02"
      },
      "outputs": [
        {
          "output_type": "execute_result",
          "data": {
            "text/plain": [
              "array([[100, 101, 102],\n",
              "       [  4,   5,   6]])"
            ]
          },
          "metadata": {},
          "execution_count": 40
        }
      ],
      "source": [
        "ary = np.array([[1, 2, 3],\n",
        "                [4, 5, 6]])\n",
        "\n",
        "# ary의 첫번째 생을 슬라이싱(:)으로 first_row에 입력\n",
        "first_row= ary[:1] # 슬라이싱의경우에도얕은복사가실행됨\n",
        "\n",
        "# first_row의 각 요송 99를 더하여 출력\n",
        "first_row +=99\n",
        "ary\n"
      ]
    },
    {
      "cell_type": "markdown",
      "metadata": {
        "id": "3co-XJKIjqfa"
      },
      "source": [
        "copy 함수, pancy 인덱싱 예제 (깊은 복사)"
      ]
    },
    {
      "cell_type": "code",
      "execution_count": 41,
      "metadata": {
        "id": "Llk9jL5qjqfa",
        "colab": {
          "base_uri": "https://localhost:8080/",
          "height": 0
        },
        "outputId": "d23c3378-a9f6-473e-fc77-c1a7b9ab5891"
      },
      "outputs": [
        {
          "output_type": "execute_result",
          "data": {
            "text/plain": [
              "array([[1, 2, 3],\n",
              "       [4, 5, 6]])"
            ]
          },
          "metadata": {},
          "execution_count": 41
        }
      ],
      "source": [
        "ary = np.array([[1, 2, 3],\n",
        "                [4, 5, 6]])\n",
        "\n",
        "# copy()함수를 사용하여  ary의 두번째 열을 second_row에 입력\n",
        "second_row = ary[1].copy()\n",
        "\n",
        "# second_row에 99를 더하여 출력\n",
        "second_row += 90\n",
        "ary\n"
      ]
    },
    {
      "cell_type": "markdown",
      "metadata": {
        "id": "yTNsqweljqfa"
      },
      "source": [
        "`pancy` 인덱싱을 통해 연속되지 않은 정수 인덱스의 튜플 또는 리스트 객체를 사용하여 원하는 배열 요소를 반환할 수 있음.  \n",
        "연속되지 않은 시퀀스로 수행될 수 있으므로 메모리에서 연속적인 슬라이스인 뷰를 반환할 수 없어, 항상 배열의 복사본을 반환"
      ]
    },
    {
      "cell_type": "code",
      "execution_count": 81,
      "metadata": {
        "id": "PozC3Axkjqfa",
        "colab": {
          "base_uri": "https://localhost:8080/",
          "height": 0
        },
        "outputId": "00139954-5110-4648-bf2c-53cd7de995ac"
      },
      "outputs": [
        {
          "output_type": "execute_result",
          "data": {
            "text/plain": [
              "array([[1, 3],\n",
              "       [4, 6]])"
            ]
          },
          "metadata": {},
          "execution_count": 81
        }
      ],
      "source": [
        "ary = np.array([[1, 2, 3],\n",
        "                [4, 5, 6]])\n",
        "\n",
        "# 연속되지 않는 정수 인덱스의 배열 요소 반환 예제\n",
        "ary[:,[0,2]]\n"
      ]
    },
    {
      "cell_type": "code",
      "execution_count": 82,
      "metadata": {
        "id": "dxXFzMHzjqfb",
        "colab": {
          "base_uri": "https://localhost:8080/",
          "height": 0
        },
        "outputId": "b796df7f-f431-4922-b0ba-8b807c2818c0"
      },
      "outputs": [
        {
          "output_type": "execute_result",
          "data": {
            "text/plain": [
              "array([[1, 2, 3],\n",
              "       [4, 5, 6]])"
            ]
          },
          "metadata": {},
          "execution_count": 82
        }
      ],
      "source": [
        "# pancy 인덱싱 예제\n",
        "this_is_a_copy = ary[:,[0,2]] # 깊 은 복 사\n",
        "\n",
        "this_is_a_copy += 99\n",
        "\n",
        "ary"
      ]
    },
    {
      "cell_type": "markdown",
      "metadata": {
        "id": "rkDiF7dsjqfb"
      },
      "source": [
        "인덱싱을 위해 `True` 및 `False` 값의 `bool`배열 마스크 활용"
      ]
    },
    {
      "cell_type": "code",
      "execution_count": 83,
      "metadata": {
        "id": "6YJekrgajqfb",
        "colab": {
          "base_uri": "https://localhost:8080/",
          "height": 0
        },
        "outputId": "053b5a64-ef91-42bf-e411-38d028bc2159"
      },
      "outputs": [
        {
          "output_type": "execute_result",
          "data": {
            "text/plain": [
              "array([[False, False, False],\n",
              "       [ True,  True,  True]])"
            ]
          },
          "metadata": {},
          "execution_count": 83
        }
      ],
      "source": [
        "# mask를 사용한 인덱싱\n",
        "ary = np.array([[1,2,3],\n",
        "                [4,5,6]])\n",
        "\n",
        "\n",
        "# ary의 요소 중 3보다 큰 값에 대한 mask 생성\n",
        "greater3_mask = ary > 3\n",
        "greater3_mask\n"
      ]
    },
    {
      "cell_type": "code",
      "execution_count": 84,
      "metadata": {
        "id": "UfM_5osFjqfc",
        "colab": {
          "base_uri": "https://localhost:8080/",
          "height": 0
        },
        "outputId": "5621fd9f-f2d3-4546-d237-a811ad9f332f"
      },
      "outputs": [
        {
          "output_type": "execute_result",
          "data": {
            "text/plain": [
              "array([4, 5, 6])"
            ]
          },
          "metadata": {},
          "execution_count": 84
        }
      ],
      "source": [
        "# mask를 사용하여 ary의 요소중 3보다 큰 값만 출력\n",
        "\n",
        "ary[greater3_mask]"
      ]
    },
    {
      "cell_type": "markdown",
      "metadata": {
        "id": "PeoF__btjqfc"
      },
      "source": [
        "논리연산자 `and`, `&`, `or`, `|` 또한 활용 가능"
      ]
    },
    {
      "cell_type": "code",
      "execution_count": 85,
      "metadata": {
        "id": "Ja3JQpQGjqfc",
        "colab": {
          "base_uri": "https://localhost:8080/",
          "height": 0
        },
        "outputId": "74a539b0-dcd9-4ca8-b76d-0c0fadb6c09f"
      },
      "outputs": [
        {
          "output_type": "execute_result",
          "data": {
            "text/plain": [
              "array([4, 6])"
            ]
          },
          "metadata": {},
          "execution_count": 85
        }
      ],
      "source": [
        "# 다양한 논리 연산자를 활용하여 출력\n",
        "ary[(ary > 3) & ( ary % 2 ==0 ) ]\n"
      ]
    },
    {
      "cell_type": "markdown",
      "metadata": {
        "id": "vLvFMk1fjqfd"
      },
      "source": [
        "### Random Number Generators"
      ]
    },
    {
      "cell_type": "markdown",
      "metadata": {
        "id": "FBrLyYJ8jqfd"
      },
      "source": [
        "머신러닝과 딥러닝에서는 난수 배열을 생성해야 하는 활용하는 경우가 많음  \n",
        "ex) 파라매터 초기화 등"
      ]
    },
    {
      "cell_type": "code",
      "execution_count": 86,
      "metadata": {
        "id": "JqgBGkAsjqfd",
        "colab": {
          "base_uri": "https://localhost:8080/",
          "height": 0
        },
        "outputId": "0de37c2e-1d38-4f68-9cae-afe2966dd69e"
      },
      "outputs": [
        {
          "output_type": "execute_result",
          "data": {
            "text/plain": [
              "array([0.69646919, 0.28613933, 0.22685145])"
            ]
          },
          "metadata": {},
          "execution_count": 86
        }
      ],
      "source": [
        "# seed값 고정 하기, random 한 값 생성\n",
        "np.random.seed(123)#전역적, 모든 NumPy의 난수 생성 함수가 동일한 시드를 사용하여 랜덤값 출력\n",
        "np.random.rand(3)"
      ]
    },
    {
      "cell_type": "code",
      "execution_count": 48,
      "metadata": {
        "id": "CoGlCDlejqfd",
        "colab": {
          "base_uri": "https://localhost:8080/",
          "height": 0
        },
        "outputId": "1a5fd78d-9b25-4514-fa98-6fda719cf304"
      },
      "outputs": [
        {
          "output_type": "execute_result",
          "data": {
            "text/plain": [
              "array([0.69646919, 0.28613933, 0.22685145])"
            ]
          },
          "metadata": {},
          "execution_count": 48
        }
      ],
      "source": [
        "rng1 = np.random.RandomState(seed=123) # 개별적인 인스턴스를 생성할 수 있으므로, 각 인스턴스는 독립적으로  시드를 설정하고 난수를 생성\n",
        "rng1.rand(3)"
      ]
    },
    {
      "cell_type": "markdown",
      "metadata": {
        "id": "aIIcfYZujqfe"
      },
      "source": [
        "### Reshaping Arrays"
      ]
    },
    {
      "cell_type": "markdown",
      "metadata": {
        "id": "QTzcd2ZPjqfe"
      },
      "source": [
        "배열이 특정 계산을 수행할 때, *올바른* 모양을 갖지 않는 상황을 자주 직면하게 됨  \n",
        "NumPy 배열의 크기는 고정되어 있지만, 모양을 변경할 수 있음  \n",
        "NumPy는 다른 모양의 배열 보기를 얻을 수 있는 `reshape` 메소드를 제공\n",
        "\n",
        "예를 들어, 다음과 같이 `reshape`를 사용하여 1차원 배열을 2차원 배열로 재구성할 수 있음"
      ]
    },
    {
      "cell_type": "code",
      "execution_count": 95,
      "metadata": {
        "id": "LmCfn3rDjqfe",
        "colab": {
          "base_uri": "https://localhost:8080/",
          "height": 0
        },
        "outputId": "b92ac133-acb5-4c3d-f561-ad7fdc9c42d0"
      },
      "outputs": [
        {
          "output_type": "execute_result",
          "data": {
            "text/plain": [
              "array([[1, 2, 3],\n",
              "       [4, 5, 6]])"
            ]
          },
          "metadata": {},
          "execution_count": 95
        }
      ],
      "source": [
        "# 1에서 6의 값을 가지는 1차원 배열 arr1d를  생성\n",
        "ary1d= np.array([1, 2, 3, 4, 5, 6])\n",
        "\n",
        "\n",
        "# reshape 함수로 2x3의 이차원 배열 arry2_view 생성\n",
        "ary2d_view = ary1d.reshape(2,3)\n",
        "ary2d_view"
      ]
    },
    {
      "cell_type": "code",
      "execution_count": 96,
      "metadata": {
        "id": "bCET4JGjjqfe",
        "colab": {
          "base_uri": "https://localhost:8080/",
          "height": 0
        },
        "outputId": "984c4a2b-7819-41ee-af1b-9dc01ef7ada0"
      },
      "outputs": [
        {
          "output_type": "execute_result",
          "data": {
            "text/plain": [
              "True"
            ]
          },
          "metadata": {},
          "execution_count": 96
        }
      ],
      "source": [
        "# numpy의 may_share_memory 함수를 사용하여 ary2d_view와 arr2d가 같은 메모리를 공유하는 확인(True -> 얕은 복사)\n",
        "np.may_share_memory(ary2d_view, ary1d ) # 얕 은 복 사. 두 배 열 이 같 은 메 모 리 를 가 르 킴\n",
        "\n"
      ]
    },
    {
      "cell_type": "markdown",
      "metadata": {
        "id": "mOBSCTmijqfe"
      },
      "source": [
        "하나의 축만 지정하고 하나의 축은 `-1`로 지정하면 numpy에서 알맞은 축의 갯수를 계산하여 배열의 모양을 변경"
      ]
    },
    {
      "cell_type": "code",
      "execution_count": 97,
      "metadata": {
        "id": "B2H6LVRzjqff",
        "colab": {
          "base_uri": "https://localhost:8080/",
          "height": 0
        },
        "outputId": "ddc6baae-30d8-474a-ca10-2936bef4a90a"
      },
      "outputs": [
        {
          "output_type": "execute_result",
          "data": {
            "text/plain": [
              "array([[1, 2, 3],\n",
              "       [4, 5, 6]])"
            ]
          },
          "metadata": {},
          "execution_count": 97
        }
      ],
      "source": [
        "# ary1d의 reshape의 하나의 축을 -1로 지정하여 2차원 배열 출력\n",
        "ary1d.reshape(2,-1)"
      ]
    },
    {
      "cell_type": "markdown",
      "metadata": {
        "id": "lgCpg0C5jqff"
      },
      "source": [
        "`reshape`함수를 사용하면 2차원 배열을 1차원으로 펼 수도 있음"
      ]
    },
    {
      "cell_type": "code",
      "execution_count": 98,
      "metadata": {
        "id": "QdeOcAfPjqff",
        "colab": {
          "base_uri": "https://localhost:8080/",
          "height": 0
        },
        "outputId": "12804f4f-09df-4d1f-af6a-805de0d06f79"
      },
      "outputs": [
        {
          "output_type": "execute_result",
          "data": {
            "text/plain": [
              "array([1, 2, 3, 4, 5, 6])"
            ]
          },
          "metadata": {},
          "execution_count": 98
        }
      ],
      "source": [
        "# numpy 함수를 사용하여 2차원 배열을 1차원으로 펼치기\n",
        "ary = np.array([[[1, 2, 3],\n",
        "                [4, 5, 6]]])\n",
        "\n",
        "ary.reshape(-1)"
      ]
    },
    {
      "cell_type": "markdown",
      "metadata": {
        "id": "F9h7MtX-jqff"
      },
      "source": [
        "두개의 배열 값을 연결하고 싶을 때, NumPy 배열의 크기는 고정되어 있으므로 두 배열을 합친 **새 배열**을 만들어야 함  \n",
        "두 개 이상의 배열 객체를 결합하려면 다음 예와 같이 NumPy의 `concatenate`함수를 사용할 수 있음"
      ]
    },
    {
      "cell_type": "code",
      "execution_count": 99,
      "metadata": {
        "id": "6Ae2ookkjqfg",
        "colab": {
          "base_uri": "https://localhost:8080/",
          "height": 0
        },
        "outputId": "bb98aed7-1e8b-4a07-db1d-ede151c3607a"
      },
      "outputs": [
        {
          "output_type": "execute_result",
          "data": {
            "text/plain": [
              "array([1, 2, 3, 1, 2, 3])"
            ]
          },
          "metadata": {},
          "execution_count": 99
        }
      ],
      "source": [
        "ary = np.array([1, 2, 3])\n",
        "\n",
        "# 배열의 값을 뒤로 연결\n",
        "np.concatenate((ary, ary))\n"
      ]
    },
    {
      "cell_type": "code",
      "execution_count": 102,
      "metadata": {
        "id": "dr1lU6mbjqfi",
        "colab": {
          "base_uri": "https://localhost:8080/",
          "height": 0
        },
        "outputId": "ec14f426-1bdc-4668-bcf7-ddb1e5f0daac"
      },
      "outputs": [
        {
          "output_type": "execute_result",
          "data": {
            "text/plain": [
              "array([[1, 2, 3],\n",
              "       [1, 2, 3]])"
            ]
          },
          "metadata": {},
          "execution_count": 102
        }
      ],
      "source": [
        "ary = np.array([[1, 2, 3]])\n",
        "\n",
        "# 첫번째 축에 대해 배열을 연결 axis=0\n",
        "np.concatenate((ary, ary), axis=0)\n"
      ]
    },
    {
      "cell_type": "code",
      "execution_count": 103,
      "metadata": {
        "id": "e_ITYCPWjqfi",
        "colab": {
          "base_uri": "https://localhost:8080/",
          "height": 0
        },
        "outputId": "87a9432b-75a7-4397-cff2-05a5c20f80f2"
      },
      "outputs": [
        {
          "output_type": "execute_result",
          "data": {
            "text/plain": [
              "array([[1, 2, 3, 1, 2, 3]])"
            ]
          },
          "metadata": {},
          "execution_count": 103
        }
      ],
      "source": [
        "# 두번째 축에 대해 배열을 연결 axis=1\n",
        "np.concatenate((ary, ary), axis=1)\n",
        "\n"
      ]
    },
    {
      "cell_type": "markdown",
      "metadata": {
        "id": "Ddl5cbqkjqfi"
      },
      "source": [
        "### Comparison Operators and Masks"
      ]
    },
    {
      "cell_type": "markdown",
      "metadata": {
        "id": "W7mFuEPbjqfj"
      },
      "source": [
        "비교 연산자(예: `<`, `>`, `<=` 및 `>=`)를 사용하여 해당 배열의 부울 마스크를 만들 수 있음  \n",
        "이 마스크는 해당 배열의 값에 따라 `True` 및 `False` 요소로 구성"
      ]
    },
    {
      "cell_type": "code",
      "execution_count": 104,
      "metadata": {
        "id": "yANNj3VPjqfj",
        "colab": {
          "base_uri": "https://localhost:8080/",
          "height": 0
        },
        "outputId": "32e2417f-0dd0-4159-8af2-d9b3aafa6243"
      },
      "outputs": [
        {
          "output_type": "execute_result",
          "data": {
            "text/plain": [
              "array([False, False,  True,  True])"
            ]
          },
          "metadata": {},
          "execution_count": 104
        }
      ],
      "source": [
        "# 비교연산자 예제\n",
        "ary = np.array([1,2, 3, 4])\n",
        "\n",
        "mask = ary >2\n",
        "mask"
      ]
    },
    {
      "cell_type": "markdown",
      "metadata": {
        "id": "jF9VvGxwjqfj"
      },
      "source": [
        "부울 마스크는 특정 조건을 만족하는 요소의 갯수를 확인할 때도 활용 가능"
      ]
    },
    {
      "cell_type": "code",
      "execution_count": 105,
      "metadata": {
        "id": "L2mEK4mFjqfk",
        "colab": {
          "base_uri": "https://localhost:8080/",
          "height": 0
        },
        "outputId": "905ec4b1-0621-42e0-e5cc-08de688d9f25"
      },
      "outputs": [
        {
          "output_type": "execute_result",
          "data": {
            "text/plain": [
              "2"
            ]
          },
          "metadata": {},
          "execution_count": 105
        }
      ],
      "source": [
        "# 생성한 mask를 사용하여 ary에서 2보다 큰 요소의 갯수를 출력\n",
        "mask.sum()\n"
      ]
    },
    {
      "cell_type": "markdown",
      "metadata": {
        "id": "lFpJOmMjjqfk"
      },
      "source": [
        "`np.where`: 배열의 특정 요소에 값을 할당하는데 유용한 함수"
      ]
    },
    {
      "cell_type": "code",
      "execution_count": 106,
      "metadata": {
        "id": "dyxFgb-3jqfk",
        "colab": {
          "base_uri": "https://localhost:8080/",
          "height": 0
        },
        "outputId": "9541c9ef-5609-4b26-f409-d3a26d359b0e"
      },
      "outputs": [
        {
          "output_type": "execute_result",
          "data": {
            "text/plain": [
              "array([0, 0, 1, 1])"
            ]
          },
          "metadata": {},
          "execution_count": 106
        }
      ],
      "source": [
        "# numpy의 where 함수를 사용하여 배열에서 2보다 큰 모든 값에 1을 할당하고, 그렇지 않으면 0을 할당\n",
        "np.where(ary>2,1,0)\n"
      ]
    },
    {
      "cell_type": "markdown",
      "metadata": {
        "id": "TDg0dGC9jqfm"
      },
      "source": [
        "### Linear Algebra with NumPy Arrays"
      ]
    },
    {
      "cell_type": "markdown",
      "metadata": {
        "id": "laFF3sMujqfm"
      },
      "source": [
        "1차원 NumPy 배열을 행 벡터를 나타내는 데이터 구조,\n",
        "2차원 NumPy 배열로 열 벡터를 나타내는 데이터 구조 생성 가능"
      ]
    },
    {
      "cell_type": "code",
      "execution_count": 116,
      "metadata": {
        "id": "12wxhSmXjqfm",
        "colab": {
          "base_uri": "https://localhost:8080/",
          "height": 0
        },
        "outputId": "d23677e0-4e51-4681-95f5-4fe3d1f8274b"
      },
      "outputs": [
        {
          "output_type": "stream",
          "name": "stdout",
          "text": [
            "[1 2 3]\n",
            "[[1]\n",
            " [2]\n",
            " [3]]\n"
          ]
        }
      ],
      "source": [
        "# 배열 연산을 위해 row_vector와 column_vector 생성\n",
        "row_vector = np.array([1,2,3])\n",
        "print(row_vector)\n",
        "column_vector = np.array([[1, 2, 3]]).reshape(-1,1) #열벡터\n",
        "print(column_vector)"
      ]
    },
    {
      "cell_type": "markdown",
      "metadata": {
        "id": "cppJBzDYjqfn"
      },
      "source": [
        "1차원 배열을 2차원 배열로 바꾸는 것은 아래의 방법으로 간단하게 새 축을 추가할 수 있음"
      ]
    },
    {
      "cell_type": "code",
      "execution_count": 111,
      "metadata": {
        "id": "cO2xbziajqfn",
        "colab": {
          "base_uri": "https://localhost:8080/",
          "height": 0
        },
        "outputId": "f6bb5da3-5b25-40ac-e237-b88c8d1b2e26"
      },
      "outputs": [
        {
          "output_type": "execute_result",
          "data": {
            "text/plain": [
              "array([[1],\n",
              "       [2],\n",
              "       [3]])"
            ]
          },
          "metadata": {},
          "execution_count": 111
        }
      ],
      "source": [
        "# 1차원 배열을 2차원 배열로 변경 1\n",
        "row_vector[:,np.newaxis]\n"
      ]
    },
    {
      "cell_type": "code",
      "execution_count": 112,
      "metadata": {
        "id": "zqZYvB_Gjqfn",
        "colab": {
          "base_uri": "https://localhost:8080/",
          "height": 0
        },
        "outputId": "cfceaa8c-06e9-4447-cc44-e14b4882e72d"
      },
      "outputs": [
        {
          "output_type": "execute_result",
          "data": {
            "text/plain": [
              "array([[1],\n",
              "       [2],\n",
              "       [3]])"
            ]
          },
          "metadata": {},
          "execution_count": 112
        }
      ],
      "source": [
        "# 1차원 배열을 2차원 배열로 변경 2\n",
        "row_vector[:,None]\n"
      ]
    },
    {
      "cell_type": "markdown",
      "metadata": {
        "id": "INRaCwCfjqfn"
      },
      "source": [
        "행렬 간의 행렬 곱셈을 수행하려면 왼쪽 행렬의 열 수가 오른쪽 행렬의 행 수와 일치해야 함  \n",
        "NumPy에서는 `matmul` 함수를 통해 행렬 곱셈을 수행"
      ]
    },
    {
      "cell_type": "code",
      "execution_count": 114,
      "metadata": {
        "id": "uUGJiTOjjqfn",
        "colab": {
          "base_uri": "https://localhost:8080/",
          "height": 0
        },
        "outputId": "9ef4fd77-8870-409f-9239-030faa298708"
      },
      "outputs": [
        {
          "output_type": "execute_result",
          "data": {
            "text/plain": [
              "array([[1, 2, 3],\n",
              "       [4, 5, 6]])"
            ]
          },
          "metadata": {},
          "execution_count": 114
        }
      ],
      "source": [
        "# 배열 연산을 위한 matrix 생성\n",
        "matrix= np.array([[1, 2, 3],\n",
        "                    [4,5,6]])\n",
        "matrix\n"
      ]
    },
    {
      "cell_type": "code",
      "execution_count": 117,
      "metadata": {
        "id": "bLBhG5oJjqfo",
        "colab": {
          "base_uri": "https://localhost:8080/",
          "height": 0
        },
        "outputId": "9d7d901f-5a30-4f7b-e46a-350c9b3bfab9"
      },
      "outputs": [
        {
          "output_type": "execute_result",
          "data": {
            "text/plain": [
              "array([[14],\n",
              "       [32]])"
            ]
          },
          "metadata": {},
          "execution_count": 117
        }
      ],
      "source": [
        "# numpy의 matmul 함수를 사용하여 matrix와 column_vector의 행렬곱의 결과를 출력\n",
        "np.matmul(matrix, column_vector)\n"
      ]
    },
    {
      "cell_type": "code",
      "execution_count": 118,
      "metadata": {
        "id": "JsxurdOhjqfp",
        "colab": {
          "base_uri": "https://localhost:8080/",
          "height": 0
        },
        "outputId": "ab745fab-e036-432a-eea8-993cd6994fa0"
      },
      "outputs": [
        {
          "output_type": "execute_result",
          "data": {
            "text/plain": [
              "14"
            ]
          },
          "metadata": {},
          "execution_count": 118
        }
      ],
      "source": [
        "#  numpy의 matmul 함수를 사용하여 row_vector와 row_vector의 곱을 출력\n",
        "np.matmul(row_vector, row_vector)\n",
        "\n"
      ]
    },
    {
      "cell_type": "code",
      "execution_count": 119,
      "metadata": {
        "id": "0vXsKdvIjqfp",
        "colab": {
          "base_uri": "https://localhost:8080/",
          "height": 0
        },
        "outputId": "e8c70c16-c210-43be-b6fd-6ef6b1fdf145"
      },
      "outputs": [
        {
          "output_type": "execute_result",
          "data": {
            "text/plain": [
              "array([14, 32])"
            ]
          },
          "metadata": {},
          "execution_count": 119
        }
      ],
      "source": [
        "#  numpy의 dot 함수를 사용하여 matrix와 row_vector의 곱을 출력\n",
        "np.dot(matrix,row_vector )"
      ]
    },
    {
      "cell_type": "code",
      "source": [],
      "metadata": {
        "id": "Bi0DfqDZJJ7E"
      },
      "execution_count": null,
      "outputs": []
    },
    {
      "cell_type": "markdown",
      "source": [],
      "metadata": {
        "id": "YNaWP-SAJHnu"
      }
    },
    {
      "cell_type": "code",
      "execution_count": 120,
      "metadata": {
        "id": "kop1Bt6-jqfq",
        "colab": {
          "base_uri": "https://localhost:8080/",
          "height": 0
        },
        "outputId": "d75c220e-4e96-4c8a-c5df-8145a11293f3"
      },
      "outputs": [
        {
          "output_type": "execute_result",
          "data": {
            "text/plain": [
              "array([[1, 4],\n",
              "       [2, 5],\n",
              "       [3, 6]])"
            ]
          },
          "metadata": {},
          "execution_count": 120
        }
      ],
      "source": [
        "matrix = np.array([[1, 2, 3],\n",
        "                   [4, 5, 6]])\n",
        "\n",
        "# transpose함수를 사용하여 2차원 배열 matrix의 전치행렬 출력\n",
        "matrix.transpose()\n"
      ]
    },
    {
      "cell_type": "code",
      "execution_count": 121,
      "metadata": {
        "id": "KRB5oOHJjqfr",
        "colab": {
          "base_uri": "https://localhost:8080/",
          "height": 0
        },
        "outputId": "e6b3f7ad-c3ac-4a25-f2b6-f9a262b594f3"
      },
      "outputs": [
        {
          "output_type": "execute_result",
          "data": {
            "text/plain": [
              "array([[1, 4],\n",
              "       [2, 5],\n",
              "       [3, 6]])"
            ]
          },
          "metadata": {},
          "execution_count": 121
        }
      ],
      "source": [
        "# `transpose`의 약칭 `T`로도 전치행렬 출력 가능\n",
        "\n",
        "matrix.T"
      ]
    },
    {
      "cell_type": "markdown",
      "metadata": {
        "id": "CXEWcZeTjqfr"
      },
      "source": [
        "## SciPy"
      ]
    },
    {
      "cell_type": "markdown",
      "metadata": {
        "id": "cmgPsUWzjqfr"
      },
      "source": [
        "- 과학 계산용 함수를 모아 놓은 파이썬 패키지  \n",
        "- Numpy가 지원하지 않는 고성능 선형대수, 함수 최적화, 신호 처리, 특수한 수학 함수와 통계 분포 등을 포함한 많은 기능을 제공\n",
        "- scikit-learn은 알고리즘을 구현할 때 SciPy의 여러 함수를 사용  \n",
        "[SciPy document link](https://docs.scipy.org/doc/scipy/reference/)\n"
      ]
    },
    {
      "cell_type": "markdown",
      "metadata": {
        "id": "zB77w-Umjqfs"
      },
      "source": [
        "## Matplotlib"
      ]
    },
    {
      "cell_type": "markdown",
      "metadata": {
        "id": "_nRbEe2Djqfs"
      },
      "source": [
        "- 데이터 차트나 그래프로 시각화하는 패키지\n",
        "- 데이터 분석 이전에 데이터 이해를 위한 시각화\n",
        "- 데이터 분석 이후에 결과를 시각화\n",
        "[공식 matplot 갤러리](https://matplotlib.org/gallery/index.html)"
      ]
    },
    {
      "cell_type": "code",
      "execution_count": 123,
      "metadata": {
        "id": "noeftt_Ajqfs"
      },
      "outputs": [],
      "source": [
        "# 코드 셀에서 그래프를 생성하고 실행한 셀 아래에 이미지 형태로 바로 출력하도록 설정\n",
        "%matplotlib inline\n",
        "\n",
        "import matplotlib.pyplot as plt"
      ]
    },
    {
      "cell_type": "markdown",
      "metadata": {
        "id": "-jIhqu1ejqfs"
      },
      "source": [
        "### Plotting Functions and Lines"
      ]
    },
    {
      "cell_type": "code",
      "execution_count": 124,
      "metadata": {
        "id": "tfhg99EVjqfs",
        "colab": {
          "base_uri": "https://localhost:8080/",
          "height": 448
        },
        "outputId": "157af7d7-6883-4bda-a4e8-efe324a05f18"
      },
      "outputs": [
        {
          "output_type": "execute_result",
          "data": {
            "text/plain": [
              "[<matplotlib.lines.Line2D at 0x7d50de7054b0>]"
            ]
          },
          "metadata": {},
          "execution_count": 124
        },
        {
          "output_type": "display_data",
          "data": {
            "text/plain": [
              "<Figure size 640x480 with 1 Axes>"
            ],
            "image/png": "[encoded data removed]"
          },
          "metadata": {}
        }
      ],
      "source": [
        "# 그래프 예제 1\n",
        "# linspace함수로 0에서 10사이의 100개의 값을 요소로 가지는 배열 x를 생성\n",
        "x = np.linspace(0,10,100)\n",
        "\n",
        "# x에 대한 sin(x)를 그래프로 출력\n",
        "plt.plot(x, np.sin(x))\n"
      ]
    },
    {
      "cell_type": "markdown",
      "metadata": {
        "id": "nK3qRCXDjqft"
      },
      "source": [
        "Add axis ranges and labels:"
      ]
    },
    {
      "cell_type": "code",
      "execution_count": 125,
      "metadata": {
        "id": "j4EiYxHfjqft",
        "colab": {
          "base_uri": "https://localhost:8080/",
          "height": 467
        },
        "outputId": "048fa456-c4e0-4f37-f68b-5aac55785c46"
      },
      "outputs": [
        {
          "output_type": "execute_result",
          "data": {
            "text/plain": [
              "Text(0, 0.5, 'y-axis')"
            ]
          },
          "metadata": {},
          "execution_count": 125
        },
        {
          "output_type": "display_data",
          "data": {
            "text/plain": [
              "<Figure size 640x480 with 1 Axes>"
            ],
            "image/png": "[encoded data removed]"
          },
          "metadata": {}
        }
      ],
      "source": [
        "# 그래프 예제 2\n",
        "# linspace함수로 0에서 10사이의 100개의 값을 요소로 가지는 배열 x를 생성, x에 대한 sin(x)를 그래프 생성\n",
        "x = np.linspace(0,10,100)\n",
        "plt.plot(x, np.sin(x))\n",
        "\n",
        "\n",
        "# xlim, ylim함수를 사용하여 x축의 값을 2에서 8, y축의 값을 0에서 0.75까지 출력\n",
        "plt.xlim([2,8])\n",
        "plt.ylim([0,0.75])\n",
        "# xlabel과 ylabel을 'x-axis', 'y-axis'로 설정하여 표를 출력\n",
        "plt.xlabel('x-axis')\n",
        "plt.ylabel('y-axis')\n",
        "\n",
        "\n"
      ]
    },
    {
      "cell_type": "markdown",
      "source": [
        "`plt.legend`: 그림에 범례(legend)를 추가  \n",
        "loc = ['best': 최적의 위치를 자동으로 선택, 'upper rignt': 오른쪽 상단, 'upper left': 왼쪽 상단, 'lower right': 오른쪽 하단, 'loser left': 왼쪽 하단]"
      ],
      "metadata": {
        "id": "4vTzgxYN0_wk"
      }
    },
    {
      "cell_type": "code",
      "execution_count": 126,
      "metadata": {
        "id": "0kOwmsSJjqft",
        "colab": {
          "base_uri": "https://localhost:8080/",
          "height": 449
        },
        "outputId": "eca36865-1cde-41bf-b4e5-545ec6aeaafd"
      },
      "outputs": [
        {
          "output_type": "display_data",
          "data": {
            "text/plain": [
              "<Figure size 640x480 with 1 Axes>"
            ],
            "image/png": "[encoded data removed]"
          },
          "metadata": {}
        }
      ],
      "source": [
        "# 그래프 예제 3\n",
        "\n",
        "# linspace함수로 0에서 10사이의 100개의 값을 요소로 가지는 배열 x를 생성\n",
        "x = np.linspace(0,10,100)\n",
        "\n",
        "\n",
        "# x 값에 대한 sin, cos함수를 생성, option 'label'을 사용하여 범례를 지정\n",
        "plt.plot(x, np.sin(x), label=('sin(x)'))\n",
        "plt.plot(x, np.cos(x), label=('cos(x)'))\n",
        "\n",
        "\n",
        "# ylabel과 xlabel을 'f(x)', 'x'로 설정\n",
        "plt.xlabel('f(x)')\n",
        "plt.ylabel('x')\n",
        "# 범례의 위치를 좌하단으로 설정하여 표를 출력\n",
        "plt.legend(loc='lower left')\n",
        "plt.show()\n"
      ]
    },
    {
      "cell_type": "markdown",
      "metadata": {
        "id": "3F3D0egLjqft"
      },
      "source": [
        "## Scatter Plots(산점도)\n",
        "- 산점도(Scatter plot)를 생성, 주로 데이터의 점들을 시각화할 때 사용"
      ]
    },
    {
      "cell_type": "code",
      "execution_count": 127,
      "metadata": {
        "id": "45rdncS-jqft",
        "colab": {
          "base_uri": "https://localhost:8080/",
          "height": 430
        },
        "outputId": "ab0b0adb-262f-4dad-a049-7e4f243a676f"
      },
      "outputs": [
        {
          "output_type": "display_data",
          "data": {
            "text/plain": [
              "<Figure size 640x480 with 1 Axes>"
            ],
            "image/png": "[encoded data removed]"
          },
          "metadata": {}
        }
      ],
      "source": [
        "# 난수 500개를 생성하여 산점도 그래프를 출력\n",
        "rng = np.random.RandomState(123)\n",
        "\n",
        "# 정규분포(평균0,표준편차1)를 따르는 난수 50개를 생성\n",
        "x = rng.normal(size=500)\n",
        "y = rng.normal(size=500)\n",
        "\n",
        "plt.scatter(x,y)\n",
        "plt.show()\n"
      ]
    },
    {
      "cell_type": "markdown",
      "metadata": {
        "id": "oBHnvewRjqfu"
      },
      "source": [
        "### Bar Plots(막대그래프)\n",
        "- 막대 그래프(Bar chart)를 생성\n",
        "- 범주형 데이터(category)의 빈도, 비교, 분포(values)등을 시각화 하는 데 효과적"
      ]
    },
    {
      "cell_type": "code",
      "execution_count": 129,
      "metadata": {
        "id": "2MregiAYjqfu",
        "colab": {
          "base_uri": "https://localhost:8080/",
          "height": 430
        },
        "outputId": "12b0b92c-5d92-4645-b0c9-e02bf148459d"
      },
      "outputs": [
        {
          "output_type": "display_data",
          "data": {
            "text/plain": [
              "<Figure size 640x480 with 1 Axes>"
            ],
            "image/png": "[encoded data removed]"
          },
          "metadata": {}
        }
      ],
      "source": [
        "# 막대 그래프 예제\n",
        "means = [1,2,3]\n",
        "stddevs = [0.2,0.4,0.5]\n",
        "bar_labels = ['bar 1','bar 2', 'bar 3']\n",
        "\n",
        "# 막대그래프 출력\n",
        "x_pos = list(range(len(bar_labels)))\n",
        "plt.bar(bar_labels, means, yerr=stddevs)\n",
        "\n",
        "plt.show()\n",
        "\n",
        "\n"
      ]
    },
    {
      "cell_type": "markdown",
      "metadata": {
        "id": "NhZColGGjqfu"
      },
      "source": [
        "### Histograms\n",
        "- 히스토그램을 생성, 데이터의 분포를  시각화하는 데 효과적\n",
        "- bin: 데이터를 나누는 구간의 수"
      ]
    },
    {
      "cell_type": "code",
      "execution_count": 130,
      "metadata": {
        "id": "o6IrC28bjqfu",
        "colab": {
          "base_uri": "https://localhost:8080/",
          "height": 430
        },
        "outputId": "a8d95d8e-9327-48b3-a1c2-a9cd1ec83d79"
      },
      "outputs": [
        {
          "output_type": "display_data",
          "data": {
            "text/plain": [
              "<Figure size 640x480 with 1 Axes>"
            ],
            "image/png": "[encoded data removed]"
          },
          "metadata": {}
        }
      ],
      "source": [
        "# histogram 그래프 예제 1\n",
        "\n",
        "means = [1,2,3]\n",
        "stddevs = [0.2,0.4,0.5]\n",
        "\n",
        "rng = np.random.RandomState(123)\n",
        "x = rng.normal(0,20,1000)\n",
        "\n",
        "# fixed bin size\n",
        "bins = np.arange(-100,100,5)\n",
        "\n",
        "plt.hist(x,bins=bins)\n",
        "plt.show()\n",
        "\n",
        "\n"
      ]
    },
    {
      "cell_type": "code",
      "execution_count": 131,
      "metadata": {
        "id": "8ANKk3MRjqfu",
        "colab": {
          "base_uri": "https://localhost:8080/",
          "height": 430
        },
        "outputId": "657b39f8-ff16-4422-de2e-6120df807d76"
      },
      "outputs": [
        {
          "output_type": "display_data",
          "data": {
            "text/plain": [
              "<Figure size 640x480 with 1 Axes>"
            ],
            "image/png": "[encoded data removed]"
          },
          "metadata": {}
        }
      ],
      "source": [
        "# histogram 그래프 예제 2\n",
        "\n",
        "rng = np.random.RandomState(123)\n",
        "x1 = rng.normal(0,20,1000)\n",
        "x2 = rng.normal(15,10,1000)\n",
        "\n",
        "\n",
        "# fixed bin size\n",
        "bins = np.arange(-100,100,5)\n",
        "\n",
        "plt.hist(x1,bins=bins, alpha=0.5)\n",
        "plt.hist(x2,bins=bins, alpha=0.5)\n",
        "\n",
        "plt.show()\n",
        "\n"
      ]
    },
    {
      "cell_type": "markdown",
      "metadata": {
        "id": "KHpO3Yhxjqfv"
      },
      "source": [
        "### Subplots(하위 그래프)\n",
        "- 여러 개의 하위 그래프(subplot)를 포함하는 Figure 객체와 그래프 객체를 생성\n",
        "- 하위 그래프에 접근할 때, ax[행, 열] 형식으로 인덱스를 사용"
      ]
    },
    {
      "cell_type": "code",
      "execution_count": 135,
      "metadata": {
        "id": "kVfdN8KLjqfv",
        "colab": {
          "base_uri": "https://localhost:8080/",
          "height": 430
        },
        "outputId": "130f3bef-0ba2-4388-827f-7b8a9a704272"
      },
      "outputs": [
        {
          "output_type": "display_data",
          "data": {
            "text/plain": [
              "<Figure size 640x480 with 6 Axes>"
            ],
            "image/png": "[encoded data removed]"
          },
          "metadata": {}
        }
      ],
      "source": [
        "import matplotlib.pyplot as plt\n",
        "# Subplots 그래프 예제\n",
        "x = range(11)\n",
        "y = range(11)\n",
        "\n",
        "fig, ax = plt.subplots(nrows=2, ncols=3, sharex=True, sharey=True)\n",
        "\n",
        "for row in ax:\n",
        "  for col in row:\n",
        "    col.plot(x,y)\n",
        "\n",
        "plt.show()\n",
        "\n",
        "\n"
      ]
    },
    {
      "cell_type": "markdown",
      "metadata": {
        "id": "iwDVuXmujqfv"
      },
      "source": [
        "### Colors and Markers"
      ]
    },
    {
      "cell_type": "code",
      "execution_count": 136,
      "metadata": {
        "id": "Y5d2TCdwjqfv",
        "colab": {
          "base_uri": "https://localhost:8080/",
          "height": 430
        },
        "outputId": "6496b9d4-6495-4dc2-a46d-7ed855971b67"
      },
      "outputs": [
        {
          "output_type": "display_data",
          "data": {
            "text/plain": [
              "<Figure size 640x480 with 1 Axes>"
            ],
            "image/png": "[encoded data removed]"
          },
          "metadata": {}
        }
      ],
      "source": [
        "# 그래프 디자인 변경 예제\n",
        "\n",
        "# linspace함수로 0에서 10사이의 100개의 값을 요소로 가지는 배열 x를 생성\n",
        "x = np.linspace(0,10,100)\n",
        "\n",
        "# x에 대한 sin(x)를 그래프로 출력\n",
        "plt.plot(x, np.sin(x), color = 'orange', marker='^', linestyle='')\n",
        "plt.show()\n",
        "\n",
        "\n"
      ]
    },
    {
      "cell_type": "markdown",
      "metadata": {
        "id": "5AvgdAcrjqfv"
      },
      "source": [
        "### Saving Plots"
      ]
    },
    {
      "cell_type": "markdown",
      "metadata": {
        "id": "wcJw2qg1jqfv"
      },
      "source": [
        "- 다양한 확장자로 Figure 저장 지원 (.eps, .svg, .jpg, .png, .pdf, .tiff, etc.)"
      ]
    },
    {
      "cell_type": "code",
      "execution_count": 137,
      "metadata": {
        "id": "THDlLrPhjqfx",
        "colab": {
          "base_uri": "https://localhost:8080/",
          "height": 430
        },
        "outputId": "2f98b3e6-d309-4f7b-eb2e-aacf7024b9d3"
      },
      "outputs": [
        {
          "output_type": "display_data",
          "data": {
            "text/plain": [
              "<Figure size 640x480 with 1 Axes>"
            ],
            "image/png": "[encoded data removed]"
          },
          "metadata": {}
        }
      ],
      "source": [
        "# 생성한 그래프 저장 예제\n",
        "import os\n",
        "\n",
        "# linspace함수로 0에서 10사이의 100개의 값을 요소로 가지는 배열 x를 생성\n",
        "x = np.linspace(0,10,100)\n",
        "\n",
        "# x에 대한 sin(x)를 그래프로 출력\n",
        "plt.plot(x, np.sin(x))\n",
        "\n",
        "# 다양한 확장자로 Figure 저장 지원\n",
        "plt.savefig('myplot.png', dpi=300)\n",
        "plt.savefig('myplot.pdf')\n",
        "\n",
        "plt.show()\n",
        "\n"
      ]
    }
  ],
  "metadata": {
    "anaconda-cloud": {},
    "kernelspec": {
      "display_name": "Python 3 (ipykernel)",
      "language": "python",
      "name": "python3"
    },
    "language_info": {
      "codemirror_mode": {
        "name": "ipython",
        "version": 3
      },
      "file_extension": ".py",
      "mimetype": "text/x-python",
      "name": "python",
      "nbconvert_exporter": "python",
      "pygments_lexer": "ipython3",
      "version": "3.11.4"
    },
    "toc": {
      "nav_menu": {},
      "number_sections": true,
      "sideBar": true,
      "skip_h1_title": false,
      "title_cell": "Table of Contents",
      "title_sidebar": "Contents",
      "toc_cell": false,
      "toc_position": {},
      "toc_section_display": true,
      "toc_window_display": false
    },
    "colab": {
      "provenance": []
    }
  },
  "nbformat": 4,
  "nbformat_minor": 0
}